{
 "cells": [
  {
   "cell_type": "code",
   "execution_count": 164,
   "metadata": {},
   "outputs": [],
   "source": [
    "import random\n",
    "import matplotlib.pyplot as plt\n",
    "%matplotlib inline"
   ]
  },
  {
   "cell_type": "code",
   "execution_count": 165,
   "metadata": {},
   "outputs": [
    {
     "data": {
      "text/plain": [
       "<matplotlib.collections.PathCollection at 0x7f4001571490>"
      ]
     },
     "execution_count": 165,
     "metadata": {},
     "output_type": "execute_result"
    },
    {
     "data": {
      "image/png": "[encoded data removed]",
      "text/plain": [
       "<Figure size 432x288 with 1 Axes>"
      ]
     },
     "metadata": {
      "needs_background": "light"
     },
     "output_type": "display_data"
    }
   ],
   "source": [
    "data = [(random.randint(0,200),random.randint(0,150)) for i in range(80)]\n",
    "plt.scatter([d[0] for d in data],[d[1] for d in data])"
   ]
  },
  {
   "cell_type": "code",
   "execution_count": 166,
   "metadata": {},
   "outputs": [],
   "source": [
    "def print_cluster(data,mean):\n",
    "    print(mean)\n",
    "    print()\n",
    "    for i in range(len(mean)):\n",
    "        print(f'({mean[i][0]},{mean[i][1]}) ',end=\" : \")\n",
    "        temp = [d for d in data if d[2]==i]\n",
    "        for j in range(len(temp)):\n",
    "            print(f'{temp[j][0],temp[j][1]}',end=\", \")\n",
    "        print()\n",
    "    print('---------------------------------------------------------------------')\n",
    "    print()\n",
    "    print()"
   ]
  },
  {
   "cell_type": "code",
   "execution_count": 167,
   "metadata": {},
   "outputs": [],
   "source": [
    "def manhattan_dis(p1,p2):\n",
    "    return abs(p1[0]-p2[0])+abs(p1[1]-p2[1])"
   ]
  },
  {
   "cell_type": "code",
   "execution_count": 168,
   "metadata": {},
   "outputs": [],
   "source": [
    "def difference(mean1,mean2):\n",
    "    for i in range(len(mean1)):\n",
    "        if abs(mean1[i][0]-mean2[i][0])>0.001 or abs(mean1[i][1]-mean2[i][1])>0.0000001 :\n",
    "            return False\n",
    "    \n",
    "    return True"
   ]
  },
  {
   "cell_type": "code",
   "execution_count": 169,
   "metadata": {},
   "outputs": [],
   "source": [
    "def modify_data(data,mean,k):\n",
    "    modified_data = []\n",
    "    for d in data:\n",
    "        temp = [manhattan_dis(d,mean[i]) for i in range(k)]\n",
    "        indx = 0\n",
    "        for j in range(len(temp)):\n",
    "            if temp[j]<temp[indx]:\n",
    "                indx = j\n",
    "        modified_data.append((d[0],d[1],indx))\n",
    "    return modified_data"
   ]
  },
  {
   "cell_type": "code",
   "execution_count": 170,
   "metadata": {},
   "outputs": [],
   "source": [
    "def cluster(data,mean,k):\n",
    "    \n",
    "    while True:\n",
    "        new_mean = []\n",
    "        for i in range(k):\n",
    "            temp = [d for d in data if d[2]==i]\n",
    "            x = sum([d[0] for d in temp])/len(temp)\n",
    "            y = sum([d[1] for d in temp])/len(temp)\n",
    "            new_mean.append((x,y))\n",
    "        if(difference(new_mean,mean)):\n",
    "            mean = new_mean\n",
    "            data = modify_data(data,mean,k)\n",
    "            print_cluster(data,mean)\n",
    "            break\n",
    "        mean = new_mean\n",
    "        data = modify_data(data,mean,k)\n",
    "        print_cluster(data,mean)\n",
    "    \n",
    "    \n",
    "    \n",
    "    \n",
    "    return mean,data"
   ]
  },
  {
   "cell_type": "code",
   "execution_count": 171,
   "metadata": {},
   "outputs": [],
   "source": [
    "def kmean_clustering(data,k=2):\n",
    "    means = []\n",
    "    i = 0\n",
    "    while i<k:\n",
    "        choice = random.choice(data)\n",
    "        if len(means)==0 or choice not in means:\n",
    "            means.append(choice)\n",
    "            i+=1\n",
    "#     print(means)\n",
    "    modified_data = modify_data(data,means,k)\n",
    "#     for d in data:\n",
    "#         temp = [manhattan_dis(d,means[i]) for i in range(k)]\n",
    "#         indx = 0\n",
    "#         for j in range(len(temp)):\n",
    "#             if temp[j]<temp[indx]:\n",
    "#                 indx = j\n",
    "#         modified_data.append((d[0],d[1],indx))\n",
    "    #print(modified_data)\n",
    "    print_cluster(modified_data,means)\n",
    "    means,data = cluster(modified_data,means,k)\n",
    "    #print(means)\n",
    "    return means,data"
   ]
  },
  {
   "cell_type": "code",
   "execution_count": 178,
   "metadata": {
    "scrolled": true
   },
   "outputs": [
    {
     "name": "stdout",
     "output_type": "stream",
     "text": [
      "[(69, 58, 8), (29, 103, 2), (128, 92, 1), (164, 111, 1), (144, 14, 5)]\n",
      "\n",
      "(69,58)  : (65, 23), (86, 66), (32, 48), (61, 61), (50, 79), (35, 61), (23, 18), (69, 88), (51, 47), (43, 27), (69, 58), (77, 24), (9, 31), (94, 68), (73, 62), (66, 92), (1, 27), (1, 49), (87, 66), (72, 89), \n",
      "(29,103)  : (81, 141), (68, 128), (23, 144), (2, 92), (1, 90), (60, 98), (2, 92), (12, 78), (57, 143), (58, 145), (4, 129), (54, 117), (29, 103), (68, 137), (0, 145), \n",
      "(128,92)  : (132, 66), (99, 89), (128, 92), (92, 84), (155, 81), (115, 129), (103, 112), (96, 101), (107, 127), (85, 99), (119, 141), (88, 99), (136, 126), (85, 94), (103, 71), \n",
      "(164,111)  : (165, 76), (169, 71), (165, 72), (164, 111), (143, 132), (142, 120), (168, 82), (159, 120), (190, 130), (183, 57), (180, 103), \n",
      "(144,14)  : (181, 25), (163, 24), (152, 22), (144, 0), (184, 6), (197, 13), (110, 33), (164, 47), (96, 1), (144, 14), (184, 2), (108, 13), (130, 0), (131, 15), (196, 29), (127, 9), (184, 42), (157, 31), (123, 13), \n",
      "---------------------------------------------------------------------\n",
      "\n",
      "\n",
      "[(53.2, 54.2), (34.6, 118.8), (109.53333333333333, 100.73333333333333), (166.1818181818182, 97.63636363636364), (151.31578947368422, 17.842105263157894)]\n",
      "\n",
      "(53.2,54.2)  : (65, 23), (86, 66), (32, 48), (61, 61), (50, 79), (35, 61), (23, 18), (69, 88), (51, 47), (43, 27), (69, 58), (77, 24), (9, 31), (73, 62), (66, 92), (1, 27), (1, 49), (87, 66), \n",
      "(34.6,118.8)  : (81, 141), (68, 128), (23, 144), (2, 92), (1, 90), (60, 98), (2, 92), (12, 78), (57, 143), (58, 145), (4, 129), (54, 117), (29, 103), (68, 137), (0, 145), \n",
      "(109.53333333333333,100.73333333333333)  : (132, 66), (99, 89), (128, 92), (92, 84), (115, 129), (103, 112), (96, 101), (107, 127), (85, 99), (119, 141), (88, 99), (94, 68), (136, 126), (85, 94), (103, 71), (72, 89), \n",
      "(166.1818181818182,97.63636363636364)  : (165, 76), (169, 71), (165, 72), (155, 81), (164, 111), (143, 132), (142, 120), (168, 82), (159, 120), (190, 130), (183, 57), (180, 103), \n",
      "(151.31578947368422,17.842105263157894)  : (181, 25), (163, 24), (152, 22), (144, 0), (184, 6), (197, 13), (110, 33), (164, 47), (96, 1), (144, 14), (184, 2), (108, 13), (130, 0), (131, 15), (196, 29), (127, 9), (184, 42), (157, 31), (123, 13), \n",
      "---------------------------------------------------------------------\n",
      "\n",
      "\n",
      "[(49.888888888888886, 51.5), (34.6, 118.8), (103.375, 99.1875), (165.25, 96.25), (151.31578947368422, 17.842105263157894)]\n",
      "\n",
      "(49.888888888888886,51.5)  : (65, 23), (32, 48), (61, 61), (50, 79), (35, 61), (23, 18), (51, 47), (43, 27), (69, 58), (77, 24), (9, 31), (73, 62), (1, 27), (1, 49), \n",
      "(34.6,118.8)  : (68, 128), (23, 144), (2, 92), (1, 90), (2, 92), (12, 78), (57, 143), (58, 145), (4, 129), (54, 117), (29, 103), (68, 137), (0, 145), \n",
      "(103.375,99.1875)  : (81, 141), (86, 66), (132, 66), (99, 89), (60, 98), (69, 88), (128, 92), (92, 84), (115, 129), (103, 112), (96, 101), (107, 127), (85, 99), (119, 141), (88, 99), (94, 68), (66, 92), (85, 94), (103, 71), (87, 66), (72, 89), \n",
      "(165.25,96.25)  : (165, 76), (169, 71), (165, 72), (155, 81), (164, 111), (143, 132), (142, 120), (168, 82), (136, 126), (159, 120), (190, 130), (183, 57), (180, 103), \n",
      "(151.31578947368422,17.842105263157894)  : (181, 25), (163, 24), (152, 22), (144, 0), (184, 6), (197, 13), (110, 33), (164, 47), (96, 1), (144, 14), (184, 2), (108, 13), (130, 0), (131, 15), (196, 29), (127, 9), (184, 42), (157, 31), (123, 13), \n",
      "---------------------------------------------------------------------\n",
      "\n",
      "\n",
      "[(42.142857142857146, 43.92857142857143), (29.076923076923077, 118.6923076923077), (93.66666666666667, 95.80952380952381), (163.0, 98.53846153846153), (151.31578947368422, 17.842105263157894)]\n",
      "\n",
      "(42.142857142857146,43.92857142857143)  : (65, 23), (32, 48), (61, 61), (50, 79), (35, 61), (23, 18), (51, 47), (43, 27), (69, 58), (77, 24), (9, 31), (73, 62), (1, 27), (1, 49), \n",
      "(29.076923076923077,118.6923076923077)  : (68, 128), (23, 144), (2, 92), (1, 90), (2, 92), (12, 78), (57, 143), (58, 145), (4, 129), (54, 117), (29, 103), (68, 137), (0, 145), \n",
      "(93.66666666666667,95.80952380952381)  : (81, 141), (86, 66), (99, 89), (60, 98), (69, 88), (128, 92), (92, 84), (115, 129), (103, 112), (96, 101), (107, 127), (85, 99), (119, 141), (88, 99), (94, 68), (66, 92), (85, 94), (103, 71), (87, 66), (72, 89), \n",
      "(163.0,98.53846153846153)  : (165, 76), (169, 71), (165, 72), (132, 66), (155, 81), (164, 111), (143, 132), (142, 120), (168, 82), (136, 126), (159, 120), (190, 130), (183, 57), (180, 103), \n",
      "(151.31578947368422,17.842105263157894)  : (181, 25), (163, 24), (152, 22), (144, 0), (184, 6), (197, 13), (110, 33), (164, 47), (96, 1), (144, 14), (184, 2), (108, 13), (130, 0), (131, 15), (196, 29), (127, 9), (184, 42), (157, 31), (123, 13), \n",
      "---------------------------------------------------------------------\n",
      "\n",
      "\n",
      "[(42.142857142857146, 43.92857142857143), (29.076923076923077, 118.6923076923077), (91.75, 97.3), (160.78571428571428, 96.21428571428571), (151.31578947368422, 17.842105263157894)]\n",
      "\n",
      "(42.142857142857146,43.92857142857143)  : (65, 23), (32, 48), (61, 61), (50, 79), (35, 61), (23, 18), (51, 47), (43, 27), (69, 58), (77, 24), (9, 31), (73, 62), (1, 27), (1, 49), \n",
      "(29.076923076923077,118.6923076923077)  : (68, 128), (23, 144), (2, 92), (1, 90), (2, 92), (12, 78), (57, 143), (58, 145), (4, 129), (54, 117), (29, 103), (68, 137), (0, 145), \n",
      "(91.75,97.3)  : (81, 141), (86, 66), (99, 89), (60, 98), (69, 88), (92, 84), (115, 129), (103, 112), (96, 101), (107, 127), (85, 99), (119, 141), (88, 99), (94, 68), (66, 92), (85, 94), (103, 71), (87, 66), (72, 89), \n",
      "(160.78571428571428,96.21428571428571)  : (165, 76), (169, 71), (165, 72), (132, 66), (128, 92), (155, 81), (164, 111), (143, 132), (142, 120), (168, 82), (136, 126), (159, 120), (190, 130), (183, 57), (180, 103), \n",
      "(151.31578947368422,17.842105263157894)  : (181, 25), (163, 24), (152, 22), (144, 0), (184, 6), (197, 13), (110, 33), (164, 47), (96, 1), (144, 14), (184, 2), (108, 13), (130, 0), (131, 15), (196, 29), (127, 9), (184, 42), (157, 31), (123, 13), \n",
      "---------------------------------------------------------------------\n",
      "\n",
      "\n",
      "[(42.142857142857146, 43.92857142857143), (29.076923076923077, 118.6923076923077), (89.84210526315789, 97.57894736842105), (158.6, 95.93333333333334), (151.31578947368422, 17.842105263157894)]\n",
      "\n",
      "(42.142857142857146,43.92857142857143)  : (65, 23), (32, 48), (61, 61), (50, 79), (35, 61), (23, 18), (51, 47), (43, 27), (69, 58), (77, 24), (9, 31), (73, 62), (1, 27), (1, 49), \n",
      "(29.076923076923077,118.6923076923077)  : (68, 128), (23, 144), (2, 92), (1, 90), (2, 92), (12, 78), (57, 143), (58, 145), (4, 129), (54, 117), (29, 103), (68, 137), (0, 145), \n",
      "(89.84210526315789,97.57894736842105)  : (81, 141), (86, 66), (99, 89), (60, 98), (69, 88), (92, 84), (115, 129), (103, 112), (96, 101), (107, 127), (85, 99), (119, 141), (88, 99), (94, 68), (66, 92), (85, 94), (103, 71), (87, 66), (72, 89), \n",
      "(158.6,95.93333333333334)  : (165, 76), (169, 71), (165, 72), (132, 66), (128, 92), (155, 81), (164, 111), (143, 132), (142, 120), (168, 82), (136, 126), (159, 120), (190, 130), (183, 57), (180, 103), \n",
      "(151.31578947368422,17.842105263157894)  : (181, 25), (163, 24), (152, 22), (144, 0), (184, 6), (197, 13), (110, 33), (164, 47), (96, 1), (144, 14), (184, 2), (108, 13), (130, 0), (131, 15), (196, 29), (127, 9), (184, 42), (157, 31), (123, 13), \n",
      "---------------------------------------------------------------------\n",
      "\n",
      "\n",
      "[(42.142857142857146, 43.92857142857143), (29.076923076923077, 118.6923076923077), (89.84210526315789, 97.57894736842105), (158.6, 95.93333333333334), (151.31578947368422, 17.842105263157894)]\n",
      "\n",
      "(42.142857142857146,43.92857142857143)  : (65, 23), (32, 48), (61, 61), (50, 79), (35, 61), (23, 18), (51, 47), (43, 27), (69, 58), (77, 24), (9, 31), (73, 62), (1, 27), (1, 49), \n",
      "(29.076923076923077,118.6923076923077)  : (68, 128), (23, 144), (2, 92), (1, 90), (2, 92), (12, 78), (57, 143), (58, 145), (4, 129), (54, 117), (29, 103), (68, 137), (0, 145), \n",
      "(89.84210526315789,97.57894736842105)  : (81, 141), (86, 66), (99, 89), (60, 98), (69, 88), (92, 84), (115, 129), (103, 112), (96, 101), (107, 127), (85, 99), (119, 141), (88, 99), (94, 68), (66, 92), (85, 94), (103, 71), (87, 66), (72, 89), \n",
      "(158.6,95.93333333333334)  : (165, 76), (169, 71), (165, 72), (132, 66), (128, 92), (155, 81), (164, 111), (143, 132), (142, 120), (168, 82), (136, 126), (159, 120), (190, 130), (183, 57), (180, 103), \n",
      "(151.31578947368422,17.842105263157894)  : (181, 25), (163, 24), (152, 22), (144, 0), (184, 6), (197, 13), (110, 33), (164, 47), (96, 1), (144, 14), (184, 2), (108, 13), (130, 0), (131, 15), (196, 29), (127, 9), (184, 42), (157, 31), (123, 13), \n",
      "---------------------------------------------------------------------\n",
      "\n",
      "\n"
     ]
    }
   ],
   "source": [
    "m,data = kmean_clustering(data,k=5)\n",
    "\n",
    "\n"
   ]
  },
  {
   "cell_type": "code",
   "execution_count": null,
   "metadata": {},
   "outputs": [],
   "source": []
  },
  {
   "cell_type": "code",
   "execution_count": 179,
   "metadata": {
    "scrolled": false
   },
   "outputs": [
    {
     "data": {
      "text/plain": [
       "<matplotlib.legend.Legend at 0x7f400155dd50>"
      ]
     },
     "execution_count": 179,
     "metadata": {},
     "output_type": "execute_result"
    },
    {
     "data": {
      "image/png": "[encoded data removed]",
      "text/plain": [
       "<Figure size 1080x576 with 1 Axes>"
      ]
     },
     "metadata": {
      "needs_background": "light"
     },
     "output_type": "display_data"
    }
   ],
   "source": [
    "color = ['blue','orange','green','red','brown','grey','olive','cyan','navy','yellow']\n",
    "#predicting clusters for new input\n",
    "fig= plt.figure(figsize=(15,8))\n",
    "axes= fig.add_axes([0.4,0.4,.8,.8])\n",
    "for i in range(len(m)):\n",
    "    temp = [d for d in data if d[2]==i]\n",
    "    axes.scatter([d[0] for d in temp],[d[1] for d in temp],color=color[i%len(color)],label=str(m[i]))\n",
    "plt.legend()"
   ]
  },
  {
   "cell_type": "code",
   "execution_count": null,
   "metadata": {},
   "outputs": [],
   "source": []
  },
  {
   "cell_type": "code",
   "execution_count": null,
   "metadata": {},
   "outputs": [],
   "source": []
  }
 ],
 "metadata": {
  "kernelspec": {
   "display_name": "Python 3",
   "language": "python",
   "name": "python3"
  },
  "language_info": {
   "codemirror_mode": {
    "name": "ipython",
    "version": 3
   },
   "file_extension": ".py",
   "mimetype": "text/x-python",
   "name": "python",
   "nbconvert_exporter": "python",
   "pygments_lexer": "ipython3",
   "version": "3.7.4"
  }
 },
 "nbformat": 4,
 "nbformat_minor": 2
}
