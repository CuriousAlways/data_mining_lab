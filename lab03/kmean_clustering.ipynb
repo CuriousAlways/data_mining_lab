{
 "cells": [
  {
   "cell_type": "code",
   "execution_count": 194,
   "metadata": {},
   "outputs": [],
   "source": [
    "import random\n",
    "import matplotlib.pyplot as plt\n",
    "%matplotlib inline"
   ]
  },
  {
   "cell_type": "code",
   "execution_count": 195,
   "metadata": {},
   "outputs": [
    {
     "data": {
      "text/plain": [
       "<matplotlib.collections.PathCollection at 0x7f40016a5450>"
      ]
     },
     "execution_count": 195,
     "metadata": {},
     "output_type": "execute_result"
    },
    {
     "data": {
      "image/png": "[encoded data removed]",
      "text/plain": [
       "<Figure size 432x288 with 1 Axes>"
      ]
     },
     "metadata": {
      "needs_background": "light"
     },
     "output_type": "display_data"
    }
   ],
   "source": [
    "data = [(random.randint(0,200),random.randint(0,150)) for i in range(80)]\n",
    "plt.scatter([d[0] for d in data],[d[1] for d in data])"
   ]
  },
  {
   "cell_type": "code",
   "execution_count": 196,
   "metadata": {},
   "outputs": [],
   "source": [
    "def print_cluster(data,mean):\n",
    "    print(mean)\n",
    "    print()\n",
    "    for i in range(len(mean)):\n",
    "        print(f'({mean[i][0]},{mean[i][1]}) ',end=\" : \")\n",
    "        temp = [d for d in data if d[2]==i]\n",
    "        for j in range(len(temp)):\n",
    "            print(f'{temp[j][0],temp[j][1]}',end=\", \")\n",
    "        print()\n",
    "    print('---------------------------------------------------------------------')\n",
    "    print()\n",
    "    print()"
   ]
  },
  {
   "cell_type": "code",
   "execution_count": 197,
   "metadata": {},
   "outputs": [],
   "source": [
    "def manhattan_dis(p1,p2):\n",
    "    return abs(p1[0]-p2[0])+abs(p1[1]-p2[1])"
   ]
  },
  {
   "cell_type": "code",
   "execution_count": 198,
   "metadata": {},
   "outputs": [],
   "source": [
    "def difference(mean1,mean2):\n",
    "    for i in range(len(mean1)):\n",
    "        if abs(mean1[i][0]-mean2[i][0])>0.001 or abs(mean1[i][1]-mean2[i][1])>0.0000001 :\n",
    "            return False\n",
    "    \n",
    "    return True"
   ]
  },
  {
   "cell_type": "code",
   "execution_count": 199,
   "metadata": {},
   "outputs": [],
   "source": [
    "def modify_data(data,mean,k):\n",
    "    modified_data = []\n",
    "    for d in data:\n",
    "        temp = [manhattan_dis(d,mean[i]) for i in range(k)]\n",
    "        indx = 0\n",
    "        for j in range(len(temp)):\n",
    "            if temp[j]<temp[indx]:\n",
    "                indx = j\n",
    "        modified_data.append((d[0],d[1],indx))\n",
    "    return modified_data"
   ]
  },
  {
   "cell_type": "code",
   "execution_count": 200,
   "metadata": {},
   "outputs": [],
   "source": [
    "def cluster(data,mean,k):\n",
    "    \n",
    "    while True:\n",
    "        new_mean = []\n",
    "        for i in range(k):\n",
    "            temp = [d for d in data if d[2]==i]\n",
    "            x = sum([d[0] for d in temp])/len(temp)\n",
    "            y = sum([d[1] for d in temp])/len(temp)\n",
    "            new_mean.append((x,y))\n",
    "        if(difference(new_mean,mean)):\n",
    "            mean = new_mean\n",
    "            data = modify_data(data,mean,k)\n",
    "            print_cluster(data,mean)\n",
    "            break\n",
    "        mean = new_mean\n",
    "        data = modify_data(data,mean,k)\n",
    "        print_cluster(data,mean)\n",
    "    \n",
    "    \n",
    "    \n",
    "    \n",
    "    return mean,data"
   ]
  },
  {
   "cell_type": "code",
   "execution_count": 201,
   "metadata": {},
   "outputs": [],
   "source": [
    "#data : training set\n",
    "# k : no_of_clusters\n",
    "def kmean_clustering(data,k=2):\n",
    "    means = []\n",
    "    i = 0\n",
    "    while i<k:\n",
    "        choice = random.choice(data)\n",
    "        if len(means)==0 or choice not in means:\n",
    "            means.append(choice)\n",
    "            i+=1\n",
    "            \n",
    "    modified_data = modify_data(data,means,k)\n",
    "\n",
    "    print_cluster(modified_data,means)\n",
    "    means,data = cluster(modified_data,means,k)\n",
    "    \n",
    "    return means,data"
   ]
  },
  {
   "cell_type": "code",
   "execution_count": 202,
   "metadata": {
    "scrolled": true
   },
   "outputs": [
    {
     "name": "stdout",
     "output_type": "stream",
     "text": [
      "[(70, 120), (44, 92), (151, 3), (173, 129), (153, 47)]\n",
      "\n",
      "(70,120)  : (31, 136), (115, 129), (77, 129), (30, 148), (75, 114), (70, 120), (115, 93), (17, 126), (18, 150), (124, 101), (109, 97), (105, 94), (117, 101), (7, 141), (31, 130), (40, 122), (109, 135), (112, 144), (112, 145), (54, 140), (123, 113), (108, 127), \n",
      "(44,92)  : (26, 91), (38, 18), (47, 31), (31, 22), (49, 51), (7, 113), (57, 73), (47, 23), (29, 32), (112, 87), (56, 58), (66, 80), (65, 21), (44, 92), (45, 104), (56, 102), (86, 62), (42, 110), (46, 60), (19, 56), (11, 32), (62, 14), (24, 100), \n",
      "(151,3)  : (187, 1), (151, 3), (98, 10), (121, 20), (73, 16), \n",
      "(173,129)  : (152, 109), (173, 129), (174, 125), (174, 113), (140, 130), (170, 140), (152, 131), (190, 86), (157, 123), (173, 101), \n",
      "(153,47)  : (196, 64), (138, 28), (127, 76), (171, 69), (133, 28), (98, 50), (153, 47), (133, 39), (200, 74), (185, 38), (160, 36), (115, 32), (194, 68), (120, 48), (148, 56), (139, 94), (187, 48), (102, 28), (134, 68), (113, 38), \n",
      "---------------------------------------------------------------------\n",
      "\n",
      "\n",
      "[(77.22727272727273, 124.31818181818181), (46.30434782608695, 62.26086956521739), (126.0, 10.0), (165.5, 118.7), (147.3, 51.45)]\n",
      "\n",
      "(77.22727272727273,124.31818181818181)  : (31, 136), (115, 129), (77, 129), (30, 148), (75, 114), (70, 120), (7, 113), (115, 93), (17, 126), (18, 150), (109, 97), (105, 94), (117, 101), (7, 141), (31, 130), (56, 102), (42, 110), (40, 122), (109, 135), (112, 144), (112, 145), (54, 140), (108, 127), \n",
      "(46.30434782608695,62.26086956521739)  : (26, 91), (38, 18), (47, 31), (31, 22), (49, 51), (57, 73), (47, 23), (29, 32), (56, 58), (66, 80), (65, 21), (44, 92), (45, 104), (86, 62), (46, 60), (19, 56), (11, 32), (62, 14), (24, 100), \n",
      "(126.0,10.0)  : (187, 1), (138, 28), (133, 28), (151, 3), (98, 10), (115, 32), (121, 20), (102, 28), (73, 16), (113, 38), \n",
      "(165.5,118.7)  : (152, 109), (173, 129), (174, 125), (174, 113), (140, 130), (124, 101), (170, 140), (152, 131), (190, 86), (157, 123), (173, 101), (123, 113), \n",
      "(147.3,51.45)  : (196, 64), (127, 76), (171, 69), (98, 50), (153, 47), (133, 39), (200, 74), (185, 38), (112, 87), (160, 36), (194, 68), (120, 48), (148, 56), (139, 94), (187, 48), (134, 68), \n",
      "---------------------------------------------------------------------\n",
      "\n",
      "\n",
      "[(67.69565217391305, 123.73913043478261), (44.63157894736842, 53.68421052631579), (123.1, 20.4), (158.5, 116.75), (153.5625, 60.125)]\n",
      "\n",
      "(67.69565217391305,123.73913043478261)  : (31, 136), (115, 129), (77, 129), (30, 148), (75, 114), (70, 120), (7, 113), (17, 126), (18, 150), (109, 97), (105, 94), (66, 80), (7, 141), (31, 130), (45, 104), (56, 102), (42, 110), (40, 122), (109, 135), (112, 144), (112, 145), (54, 140), (108, 127), \n",
      "(44.63157894736842,53.68421052631579)  : (26, 91), (38, 18), (47, 31), (31, 22), (49, 51), (57, 73), (47, 23), (29, 32), (56, 58), (65, 21), (44, 92), (86, 62), (46, 60), (19, 56), (11, 32), (62, 14), (24, 100), \n",
      "(123.1,20.4)  : (187, 1), (138, 28), (133, 28), (98, 50), (151, 3), (98, 10), (133, 39), (115, 32), (120, 48), (121, 20), (102, 28), (73, 16), (113, 38), \n",
      "(158.5,116.75)  : (152, 109), (173, 129), (174, 125), (174, 113), (140, 130), (115, 93), (124, 101), (170, 140), (117, 101), (152, 131), (190, 86), (139, 94), (157, 123), (173, 101), (123, 113), \n",
      "(153.5625,60.125)  : (196, 64), (127, 76), (171, 69), (153, 47), (200, 74), (185, 38), (112, 87), (160, 36), (194, 68), (148, 56), (187, 48), (134, 68), \n",
      "---------------------------------------------------------------------\n",
      "\n",
      "\n",
      "[(62.43478260869565, 123.30434782608695), (43.35294117647059, 49.1764705882353), (121.6923076923077, 26.23076923076923), (151.53333333333333, 112.6), (163.91666666666666, 60.916666666666664)]\n",
      "\n",
      "(62.43478260869565,123.30434782608695)  : (31, 136), (77, 129), (30, 148), (75, 114), (70, 120), (7, 113), (17, 126), (18, 150), (66, 80), (7, 141), (31, 130), (45, 104), (56, 102), (42, 110), (40, 122), (109, 135), (112, 144), (112, 145), (24, 100), (54, 140), (108, 127), \n",
      "(43.35294117647059,49.1764705882353)  : (26, 91), (38, 18), (47, 31), (31, 22), (49, 51), (57, 73), (47, 23), (29, 32), (56, 58), (65, 21), (44, 92), (86, 62), (46, 60), (19, 56), (11, 32), (62, 14), \n",
      "(121.6923076923077,26.23076923076923)  : (138, 28), (133, 28), (98, 50), (151, 3), (98, 10), (133, 39), (115, 32), (120, 48), (121, 20), (102, 28), (73, 16), (113, 38), \n",
      "(151.53333333333333,112.6)  : (115, 129), (152, 109), (173, 129), (174, 125), (174, 113), (140, 130), (115, 93), (124, 101), (109, 97), (112, 87), (105, 94), (170, 140), (117, 101), (152, 131), (139, 94), (157, 123), (173, 101), (123, 113), \n",
      "(163.91666666666666,60.916666666666664)  : (196, 64), (187, 1), (127, 76), (171, 69), (153, 47), (200, 74), (185, 38), (160, 36), (194, 68), (148, 56), (190, 86), (187, 48), (134, 68), \n",
      "---------------------------------------------------------------------\n",
      "\n",
      "\n",
      "[(53.857142857142854, 124.57142857142857), (44.5625, 46.0), (116.25, 28.333333333333332), (140.22222222222223, 111.66666666666667), (171.69230769230768, 56.23076923076923)]\n",
      "\n",
      "(53.857142857142854,124.57142857142857)  : (26, 91), (31, 136), (77, 129), (30, 148), (75, 114), (70, 120), (7, 113), (17, 126), (18, 150), (7, 141), (31, 130), (44, 92), (45, 104), (56, 102), (42, 110), (40, 122), (24, 100), (54, 140), \n",
      "(44.5625,46.0)  : (38, 18), (47, 31), (31, 22), (49, 51), (57, 73), (47, 23), (29, 32), (56, 58), (66, 80), (65, 21), (86, 62), (46, 60), (19, 56), (11, 32), (62, 14), \n",
      "(116.25,28.333333333333332)  : (138, 28), (133, 28), (98, 50), (151, 3), (98, 10), (133, 39), (115, 32), (120, 48), (121, 20), (102, 28), (73, 16), (113, 38), \n",
      "(140.22222222222223,111.66666666666667)  : (115, 129), (127, 76), (152, 109), (173, 129), (174, 125), (174, 113), (140, 130), (115, 93), (124, 101), (109, 97), (112, 87), (105, 94), (170, 140), (117, 101), (152, 131), (139, 94), (157, 123), (109, 135), (112, 144), (173, 101), (112, 145), (123, 113), (108, 127), \n",
      "(171.69230769230768,56.23076923076923)  : (196, 64), (187, 1), (171, 69), (153, 47), (200, 74), (185, 38), (160, 36), (194, 68), (148, 56), (190, 86), (187, 48), (134, 68), \n",
      "---------------------------------------------------------------------\n",
      "\n",
      "\n",
      "[(38.55555555555556, 120.44444444444444), (47.266666666666666, 42.2), (116.25, 28.333333333333332), (134.43478260869566, 114.65217391304348), (175.41666666666666, 54.583333333333336)]\n",
      "\n",
      "(38.55555555555556,120.44444444444444)  : (26, 91), (31, 136), (77, 129), (30, 148), (75, 114), (70, 120), (7, 113), (17, 126), (18, 150), (7, 141), (31, 130), (44, 92), (45, 104), (56, 102), (42, 110), (40, 122), (24, 100), (54, 140), \n",
      "(47.266666666666666,42.2)  : (38, 18), (47, 31), (31, 22), (49, 51), (57, 73), (47, 23), (29, 32), (56, 58), (66, 80), (65, 21), (86, 62), (46, 60), (73, 16), (19, 56), (11, 32), (62, 14), \n",
      "(116.25,28.333333333333332)  : (138, 28), (133, 28), (98, 50), (151, 3), (98, 10), (133, 39), (115, 32), (120, 48), (121, 20), (102, 28), (113, 38), \n",
      "(134.43478260869566,114.65217391304348)  : (115, 129), (127, 76), (152, 109), (173, 129), (174, 125), (174, 113), (140, 130), (115, 93), (124, 101), (109, 97), (112, 87), (105, 94), (170, 140), (117, 101), (152, 131), (139, 94), (134, 68), (157, 123), (109, 135), (112, 144), (112, 145), (123, 113), (108, 127), \n",
      "(175.41666666666666,54.583333333333336)  : (196, 64), (187, 1), (171, 69), (153, 47), (200, 74), (185, 38), (160, 36), (194, 68), (148, 56), (190, 86), (187, 48), (173, 101), \n",
      "---------------------------------------------------------------------\n",
      "\n",
      "\n",
      "[(38.55555555555556, 120.44444444444444), (48.875, 40.5625), (120.18181818181819, 29.454545454545453), (132.7391304347826, 113.21739130434783), (178.66666666666666, 57.333333333333336)]\n",
      "\n",
      "(38.55555555555556,120.44444444444444)  : (26, 91), (31, 136), (77, 129), (30, 148), (75, 114), (70, 120), (7, 113), (17, 126), (18, 150), (7, 141), (31, 130), (44, 92), (45, 104), (56, 102), (42, 110), (40, 122), (24, 100), (54, 140), \n",
      "(48.875,40.5625)  : (38, 18), (47, 31), (31, 22), (49, 51), (57, 73), (47, 23), (29, 32), (56, 58), (66, 80), (65, 21), (86, 62), (46, 60), (73, 16), (19, 56), (11, 32), (62, 14), \n",
      "(120.18181818181819,29.454545454545453)  : (138, 28), (133, 28), (98, 50), (151, 3), (98, 10), (133, 39), (115, 32), (120, 48), (121, 20), (102, 28), (113, 38), \n",
      "(132.7391304347826,113.21739130434783)  : (115, 129), (127, 76), (152, 109), (173, 129), (174, 125), (174, 113), (140, 130), (115, 93), (124, 101), (109, 97), (112, 87), (105, 94), (170, 140), (117, 101), (152, 131), (139, 94), (134, 68), (157, 123), (109, 135), (112, 144), (112, 145), (123, 113), (108, 127), \n",
      "(178.66666666666666,57.333333333333336)  : (196, 64), (187, 1), (171, 69), (153, 47), (200, 74), (185, 38), (160, 36), (194, 68), (148, 56), (190, 86), (187, 48), (173, 101), \n",
      "---------------------------------------------------------------------\n",
      "\n",
      "\n",
      "[(38.55555555555556, 120.44444444444444), (48.875, 40.5625), (120.18181818181819, 29.454545454545453), (132.7391304347826, 113.21739130434783), (178.66666666666666, 57.333333333333336)]\n",
      "\n",
      "(38.55555555555556,120.44444444444444)  : (26, 91), (31, 136), (77, 129), (30, 148), (75, 114), (70, 120), (7, 113), (17, 126), (18, 150), (7, 141), (31, 130), (44, 92), (45, 104), (56, 102), (42, 110), (40, 122), (24, 100), (54, 140), \n",
      "(48.875,40.5625)  : (38, 18), (47, 31), (31, 22), (49, 51), (57, 73), (47, 23), (29, 32), (56, 58), (66, 80), (65, 21), (86, 62), (46, 60), (73, 16), (19, 56), (11, 32), (62, 14), \n",
      "(120.18181818181819,29.454545454545453)  : (138, 28), (133, 28), (98, 50), (151, 3), (98, 10), (133, 39), (115, 32), (120, 48), (121, 20), (102, 28), (113, 38), \n",
      "(132.7391304347826,113.21739130434783)  : (115, 129), (127, 76), (152, 109), (173, 129), (174, 125), (174, 113), (140, 130), (115, 93), (124, 101), (109, 97), (112, 87), (105, 94), (170, 140), (117, 101), (152, 131), (139, 94), (134, 68), (157, 123), (109, 135), (112, 144), (112, 145), (123, 113), (108, 127), \n",
      "(178.66666666666666,57.333333333333336)  : (196, 64), (187, 1), (171, 69), (153, 47), (200, 74), (185, 38), (160, 36), (194, 68), (148, 56), (190, 86), (187, 48), (173, 101), \n",
      "---------------------------------------------------------------------\n",
      "\n",
      "\n"
     ]
    }
   ],
   "source": [
    "m,data = kmean_clustering(data,k=5)\n",
    "\n",
    "\n"
   ]
  },
  {
   "cell_type": "code",
   "execution_count": null,
   "metadata": {},
   "outputs": [],
   "source": []
  },
  {
   "cell_type": "code",
   "execution_count": 205,
   "metadata": {
    "scrolled": false
   },
   "outputs": [
    {
     "data": {
      "text/plain": [
       "<matplotlib.legend.Legend at 0x7f40013afc50>"
      ]
     },
     "execution_count": 205,
     "metadata": {},
     "output_type": "execute_result"
    },
    {
     "data": {
      "image/png": "[encoded data removed]",
      "text/plain": [
       "<Figure size 1080x576 with 1 Axes>"
      ]
     },
     "metadata": {
      "needs_background": "light"
     },
     "output_type": "display_data"
    }
   ],
   "source": [
    "color = ['blue','orange','green','red','brown','grey','olive','cyan','navy','yellow']\n",
    "#predicting clusters for new input\n",
    "fig= plt.figure(figsize=(15,8))\n",
    "axes= fig.add_axes([0.4,0.4,.8,.8])\n",
    "for i in range(len(m)):\n",
    "    temp = [d for d in data if d[2]==i]\n",
    "    axes.scatter([d[0] for d in temp],[d[1] for d in temp],color=color[i%len(color)],label=str(m[i]))\n",
    "    axes.scatter(m[i][0],m[i][1],s=150,color=color[i%len(color)])\n",
    "plt.legend()"
   ]
  },
  {
   "cell_type": "code",
   "execution_count": null,
   "metadata": {},
   "outputs": [],
   "source": []
  },
  {
   "cell_type": "code",
   "execution_count": null,
   "metadata": {},
   "outputs": [],
   "source": []
  }
 ],
 "metadata": {
  "kernelspec": {
   "display_name": "Python 3",
   "language": "python",
   "name": "python3"
  },
  "language_info": {
   "codemirror_mode": {
    "name": "ipython",
    "version": 3
   },
   "file_extension": ".py",
   "mimetype": "text/x-python",
   "name": "python",
   "nbconvert_exporter": "python",
   "pygments_lexer": "ipython3",
   "version": "3.7.4"
  }
 },
 "nbformat": 4,
 "nbformat_minor": 2
}
