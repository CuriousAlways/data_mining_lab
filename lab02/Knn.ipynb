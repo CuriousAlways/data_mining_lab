{
 "cells": [
  {
   "cell_type": "code",
   "execution_count": 47,
   "metadata": {},
   "outputs": [],
   "source": [
    "import random\n",
    "import matplotlib.pyplot as plt\n",
    "%matplotlib inline "
   ]
  },
  {
   "cell_type": "code",
   "execution_count": 144,
   "metadata": {},
   "outputs": [],
   "source": [
    "class_1 = [(random.uniform(0,100),random.uniform(0,100),1) for i in range(30)]\n",
    "#class_1"
   ]
  },
  {
   "cell_type": "code",
   "execution_count": 145,
   "metadata": {},
   "outputs": [],
   "source": [
    "class_2 = [(random.uniform(70,200),random.uniform(70,200),2) for i in range(30)]\n",
    "#class_2"
   ]
  },
  {
   "cell_type": "code",
   "execution_count": 146,
   "metadata": {},
   "outputs": [],
   "source": [
    "class_3 = [(random.uniform(160,300),random.uniform(160,300),3) for i in range(30)]\n",
    "#class_3"
   ]
  },
  {
   "cell_type": "code",
   "execution_count": null,
   "metadata": {},
   "outputs": [],
   "source": []
  },
  {
   "cell_type": "code",
   "execution_count": 34,
   "metadata": {},
   "outputs": [],
   "source": [
    "def distance(p1,p2):\n",
    "    return ((p1[0]-p2[0])**2 + (p1[1]-p2[1])**2)"
   ]
  },
  {
   "cell_type": "code",
   "execution_count": 215,
   "metadata": {},
   "outputs": [],
   "source": [
    "def knn(data_set,point,no_class=3,k=3):\n",
    "    neighbour_distance = [] #(distance,lable)\n",
    "    for example in data_set:\n",
    "        neighbour_distance.append((distance(point,example),example[2]))\n",
    "    \n",
    "    neighbour_distance = sorted(neighbour_distance,key=lambda el:(el[0]))\n",
    "    \n",
    "    #print(neighbour_distance)\n",
    "    \n",
    "    top_k = neighbour_distance[0:k]\n",
    "    print(top_k)\n",
    "    lable = (-1,-1) #(count,lable)\n",
    "    for i in range(1,no_class+1):\n",
    "        temp = [el for el in top_k if el[1]==i]\n",
    "        #print(temp)\n",
    "        if len(temp)>lable[0]:\n",
    "            lable = (len(temp),i)\n",
    "    return lable[1]            "
   ]
  },
  {
   "cell_type": "code",
   "execution_count": 169,
   "metadata": {},
   "outputs": [],
   "source": [
    "data_set = class_1 + class_2 + class_3\n",
    "# data_set"
   ]
  },
  {
   "cell_type": "code",
   "execution_count": 164,
   "metadata": {},
   "outputs": [
    {
     "data": {
      "text/plain": [
       "(5.913967620509175, 261.65987189950863)"
      ]
     },
     "execution_count": 164,
     "metadata": {},
     "output_type": "execute_result"
    }
   ],
   "source": []
  },
  {
   "cell_type": "code",
   "execution_count": null,
   "metadata": {},
   "outputs": [],
   "source": []
  },
  {
   "cell_type": "code",
   "execution_count": 245,
   "metadata": {},
   "outputs": [
    {
     "data": {
      "text/plain": [
       "<matplotlib.legend.Legend at 0x7fe5024259d0>"
      ]
     },
     "execution_count": 245,
     "metadata": {},
     "output_type": "execute_result"
    },
    {
     "data": {
      "image/png": "[encoded data removed]",
      "text/plain": [
       "<Figure size 864x504 with 1 Axes>"
      ]
     },
     "metadata": {
      "needs_background": "light"
     },
     "output_type": "display_data"
    }
   ],
   "source": [
    "#input point \n",
    "point = (random.uniform(0,400),random.uniform(0,500))\n",
    "point\n",
    "\n",
    "#visualizing data\n",
    "fig= plt.figure(figsize=(12,7))\n",
    "axes= fig.add_axes([0.4,0.4,.8,.8])\n",
    "axes.scatter([el[0] for el in class_1],[el[1] for el in class_1],label=str(class_1[1][2]))\n",
    "axes.scatter([el[0] for el in class_2],[el[1] for el in class_2],label=str(class_2[1][2]))\n",
    "axes.scatter([el[0] for el in class_3],[el[1] for el in class_3],label=str(class_3[1][2]))\n",
    "axes.scatter(point[0],point[1],label='point',color='black',s=100)\n",
    "#arguments--> 'marker' is used to specify symbol for denoting points default is dot\n",
    "#'s' is size of marker\n",
    "plt.title('data_set')\n",
    "plt.xlabel('feature1')\n",
    "plt.ylabel('feature2')\n",
    "plt.legend()\n",
    "# plt.axis([0,900,0,900])"
   ]
  },
  {
   "cell_type": "code",
   "execution_count": null,
   "metadata": {},
   "outputs": [],
   "source": []
  },
  {
   "cell_type": "code",
   "execution_count": 246,
   "metadata": {
    "scrolled": true
   },
   "outputs": [
    {
     "name": "stdout",
     "output_type": "stream",
     "text": [
      "[(1225.3532814499806, 2), (2228.463144920591, 2), (2252.146556649088, 3)]\n"
     ]
    },
    {
     "data": {
      "text/plain": [
       "2"
      ]
     },
     "execution_count": 246,
     "metadata": {},
     "output_type": "execute_result"
    }
   ],
   "source": [
    "#prediction\n",
    "knn(data_set,point)"
   ]
  },
  {
   "cell_type": "code",
   "execution_count": null,
   "metadata": {},
   "outputs": [],
   "source": []
  },
  {
   "cell_type": "code",
   "execution_count": null,
   "metadata": {},
   "outputs": [],
   "source": []
  },
  {
   "cell_type": "code",
   "execution_count": null,
   "metadata": {},
   "outputs": [],
   "source": []
  }
 ],
 "metadata": {
  "kernelspec": {
   "display_name": "Python 3",
   "language": "python",
   "name": "python3"
  },
  "language_info": {
   "codemirror_mode": {
    "name": "ipython",
    "version": 3
   },
   "file_extension": ".py",
   "mimetype": "text/x-python",
   "name": "python",
   "nbconvert_exporter": "python",
   "pygments_lexer": "ipython3",
   "version": "3.7.4"
  }
 },
 "nbformat": 4,
 "nbformat_minor": 2
}
