{
 "cells": [
  {
   "cell_type": "code",
   "execution_count": 22,
   "metadata": {},
   "outputs": [
    {
     "name": "stdout",
     "output_type": "stream",
     "text": [
      "14\n"
     ]
    },
    {
     "data": {
      "text/plain": [
       "array([[0, 0, 0, 0, 0],\n",
       "       [0, 0, 0, 1, 0],\n",
       "       [1, 0, 0, 0, 1],\n",
       "       [2, 1, 0, 0, 1],\n",
       "       [2, 2, 1, 0, 1],\n",
       "       [2, 2, 1, 1, 0],\n",
       "       [1, 2, 1, 1, 1],\n",
       "       [0, 1, 0, 0, 0],\n",
       "       [0, 2, 1, 0, 1],\n",
       "       [2, 1, 1, 0, 1],\n",
       "       [0, 1, 1, 1, 1],\n",
       "       [1, 1, 0, 1, 1],\n",
       "       [1, 0, 1, 0, 1],\n",
       "       [0, 1, 0, 1, 0]])"
      ]
     },
     "execution_count": 22,
     "metadata": {},
     "output_type": "execute_result"
    }
   ],
   "source": [
    "import numpy as np\n",
    "\n",
    "training_set = np.load('./training_set.npy')\n",
    "no_training_set = training_set.shape[0]\n",
    "print(no_training_set)\n",
    "training_set"
   ]
  },
  {
   "cell_type": "code",
   "execution_count": 27,
   "metadata": {},
   "outputs": [
    {
     "name": "stdout",
     "output_type": "stream",
     "text": [
      "count_no : 5 probability : 0.35714285714285715\n"
     ]
    },
    {
     "data": {
      "text/plain": [
       "array([[0, 0, 0, 0, 0],\n",
       "       [0, 0, 0, 1, 0],\n",
       "       [2, 2, 1, 1, 0],\n",
       "       [0, 1, 0, 0, 0],\n",
       "       [0, 1, 0, 1, 0]])"
      ]
     },
     "execution_count": 27,
     "metadata": {},
     "output_type": "execute_result"
    }
   ],
   "source": [
    "class_no = training_set[training_set[:,-1]==0]\n",
    "count_no = class_no.shape[0]\n",
    "p_no = count_no/no_training_set #probability of no's\n",
    "print(f'count_no : {count_no} probability : {p_no}')\n",
    "class_no"
   ]
  },
  {
   "cell_type": "code",
   "execution_count": null,
   "metadata": {},
   "outputs": [],
   "source": []
  },
  {
   "cell_type": "code",
   "execution_count": 28,
   "metadata": {},
   "outputs": [
    {
     "name": "stdout",
     "output_type": "stream",
     "text": [
      "count_yes : 9 probability : 0.6428571428571429\n"
     ]
    },
    {
     "data": {
      "text/plain": [
       "array([[1, 0, 0, 0, 1],\n",
       "       [2, 1, 0, 0, 1],\n",
       "       [2, 2, 1, 0, 1],\n",
       "       [1, 2, 1, 1, 1],\n",
       "       [0, 2, 1, 0, 1],\n",
       "       [2, 1, 1, 0, 1],\n",
       "       [0, 1, 1, 1, 1],\n",
       "       [1, 1, 0, 1, 1],\n",
       "       [1, 0, 1, 0, 1]])"
      ]
     },
     "execution_count": 28,
     "metadata": {},
     "output_type": "execute_result"
    }
   ],
   "source": [
    "class_yes = training_set[training_set[:,-1]==1]\n",
    "count_yes = class_yes.shape[0]\n",
    "p_yes = count_yes/no_training_set #probability of yes's\n",
    "print(f'count_yes : {count_yes} probability : {p_yes}')\n",
    "class_yes"
   ]
  },
  {
   "cell_type": "code",
   "execution_count": null,
   "metadata": {},
   "outputs": [],
   "source": []
  },
  {
   "cell_type": "code",
   "execution_count": 48,
   "metadata": {},
   "outputs": [],
   "source": [
    "#predicting for this input\n",
    "input_feature = [0,0,0,1]"
   ]
  },
  {
   "cell_type": "code",
   "execution_count": 49,
   "metadata": {},
   "outputs": [
    {
     "data": {
      "text/plain": [
       "0.15360000000000004"
      ]
     },
     "execution_count": 49,
     "metadata": {},
     "output_type": "execute_result"
    }
   ],
   "source": [
    "# probability for no\n",
    "pred_prob_no = 1\n",
    "for i in range(0,len(input_feature)): \n",
    "    count = 0\n",
    "    for j in range(0,count_no):#iterating over each training example\n",
    "        if(class_no[j,i]==input_feature[i]):\n",
    "            count+=1\n",
    "    if(count==0):\n",
    "        count = 0.001\n",
    "    \n",
    "    pred_prob_no *= count/count_no #conditional probability wrt to each value\n",
    "\n",
    "pred_prob_no"
   ]
  },
  {
   "cell_type": "code",
   "execution_count": null,
   "metadata": {},
   "outputs": [],
   "source": []
  },
  {
   "cell_type": "code",
   "execution_count": 50,
   "metadata": {},
   "outputs": [
    {
     "data": {
      "text/plain": [
       "0.005486968449931412"
      ]
     },
     "execution_count": 50,
     "metadata": {},
     "output_type": "execute_result"
    }
   ],
   "source": [
    "pred_prob_yes = 1\n",
    "for i in range(0,len(input_feature)):\n",
    "    count = 0\n",
    "    for j in range(0,count_yes):\n",
    "        if(class_yes[j,i]==input_feature[i]):\n",
    "            count+=1\n",
    "    if(count==0):\n",
    "        count = 0.0001\n",
    "    \n",
    "    pred_prob_yes *= count/count_yes\n",
    "\n",
    "pred_prob_yes"
   ]
  },
  {
   "cell_type": "code",
   "execution_count": null,
   "metadata": {},
   "outputs": [],
   "source": []
  },
  {
   "cell_type": "code",
   "execution_count": 51,
   "metadata": {},
   "outputs": [
    {
     "name": "stdout",
     "output_type": "stream",
     "text": [
      "No\n"
     ]
    }
   ],
   "source": [
    "if(pred_prob_no>pred_prob_yes):\n",
    "    print('No')\n",
    "else:\n",
    "    print('Yes')"
   ]
  }
 ],
 "metadata": {
  "kernelspec": {
   "display_name": "Python 3",
   "language": "python",
   "name": "python3"
  },
  "language_info": {
   "codemirror_mode": {
    "name": "ipython",
    "version": 3
   },
   "file_extension": ".py",
   "mimetype": "text/x-python",
   "name": "python",
   "nbconvert_exporter": "python",
   "pygments_lexer": "ipython3",
   "version": "3.7.4"
  }
 },
 "nbformat": 4,
 "nbformat_minor": 2
}
